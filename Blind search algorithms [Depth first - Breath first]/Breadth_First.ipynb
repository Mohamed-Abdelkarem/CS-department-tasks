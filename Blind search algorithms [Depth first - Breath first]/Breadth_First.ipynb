{
 "cells": [
  {
   "cell_type": "code",
   "execution_count": 63,
   "id": "b5d5f8e2",
   "metadata": {},
   "outputs": [],
   "source": [
    "from queue import Queue\n",
    "nodes={\n",
    "        'A':['B','D'],\n",
    "        'B':['A','C'],\n",
    "        'C':['B'],\n",
    "        'D':['A','E','F'],\n",
    "        'E':['D','F','G'],\n",
    "        'F':['D','E','H'],\n",
    "        'G':['E','H'],\n",
    "        'H':['G','F']\n",
    "        }"
   ]
  },
  {
   "cell_type": "code",
   "execution_count": 64,
   "id": "0940d6f3",
   "metadata": {},
   "outputs": [
    {
     "name": "stdout",
     "output_type": "stream",
     "text": [
      "{'A': False, 'B': False, 'C': False, 'D': False, 'E': False, 'F': False, 'G': False, 'H': False}\n",
      "{'A': -1, 'B': -1, 'C': -1, 'D': -1, 'E': -1, 'F': -1, 'G': -1, 'H': -1}\n",
      "{'A': None, 'B': None, 'C': None, 'D': None, 'E': None, 'F': None, 'G': None, 'H': None}\n"
     ]
    }
   ],
   "source": [
    "#BSF code\n",
    "visited={}\n",
    "level={}\n",
    "parent={}\n",
    "bfs_route=[]\n",
    "queue=Queue()\n",
    "\n",
    "#make intial values= 0\n",
    "for node in nodes.keys():\n",
    "    #add nodes names to (visited-parent).. and their values= 0\n",
    "    visited[node]=False\n",
    "    parent[node]=None\n",
    "    #make intial lelvel= -1 (as the root's level= 0)\n",
    "    level[node]=-1\n",
    "    \n",
    "print(visited)\n",
    "print(level)\n",
    "print(parent)"
   ]
  },
  {
   "cell_type": "code",
   "execution_count": 18,
   "id": "e194a7b2",
   "metadata": {},
   "outputs": [
    {
     "name": "stdout",
     "output_type": "stream",
     "text": [
      "['A', 'B', 'D', 'C', 'E', 'F', 'G', 'H', 'A', 'A', 'A']\n"
     ]
    }
   ],
   "source": [
    "root= 'A'\n",
    "visited[root]= True\n",
    "level[root]= 0\n",
    "queue.put(root)\n",
    "\n",
    "#loop over keys of nodes dict\n",
    "while not queue.empty():\n",
    "    #get last value in the queue.. and make it the parent to explore its children next\n",
    "    u=queue.get()\n",
    "    bfs_route.append(u)\n",
    "    #loop in children of each node\n",
    "    for v in nodes[u]:\n",
    "        #if this child wans't visited do the following\n",
    "        if not visited[v]:\n",
    "            visited[v]=True\n",
    "            parent[v]=u\n",
    "            level[v]=level[u]+1\n",
    "            #add the child to queue to be explored as parent (queue might have more than element at once)\n",
    "            queue.put(v)\n",
    "#that is the shortest distance of all nodes from the source node\n",
    "print(bfs_route)"
   ]
  },
  {
   "cell_type": "code",
   "execution_count": 65,
   "id": "a3a333ec",
   "metadata": {},
   "outputs": [
    {
     "data": {
      "text/plain": [
       "['A']"
      ]
     },
     "execution_count": 65,
     "metadata": {},
     "output_type": "execute_result"
    }
   ],
   "source": [
    "route= []\n",
    "root= 'A'\n",
    "route.append(root)\n",
    "visited[root]= True\n",
    "root\n",
    "\n",
    "def recur(nodes, node):\n",
    "    for i in nodes[node]:\n",
    "        if not visited[i]:\n",
    "            visited[i]=True\n",
    "#             print(route)\n",
    "            route.append(i)\n",
    "#             print(i)\n",
    "            recur(nodes, i)\n",
    "route       "
   ]
  },
  {
   "cell_type": "code",
   "execution_count": 66,
   "id": "611e2770",
   "metadata": {
    "scrolled": true
   },
   "outputs": [
    {
     "name": "stdout",
     "output_type": "stream",
     "text": [
      "['A', 'B', 'C', 'D', 'E', 'F', 'H', 'G']\n"
     ]
    }
   ],
   "source": [
    "recur(nodes, 'A')\n",
    "print(route)"
   ]
  },
  {
   "cell_type": "code",
   "execution_count": 62,
   "id": "3735e509",
   "metadata": {},
   "outputs": [
    {
     "name": "stdout",
     "output_type": "stream",
     "text": [
      "{'A': -1, 'B': -1, 'C': -1, 'D': -1, 'E': -1, 'F': -1, 'G': -1, 'H': -1}\n",
      "-1\n"
     ]
    }
   ],
   "source": [
    "print(level)\n",
    "print(level['G'])  #this is distance from root -> G"
   ]
  },
  {
   "cell_type": "code",
   "execution_count": 16,
   "id": "0b2a42ba",
   "metadata": {},
   "outputs": [
    {
     "name": "stdout",
     "output_type": "stream",
     "text": [
      "['A', 'D', 'E', 'G']\n"
     ]
    }
   ],
   "source": [
    "target='G'\n",
    "path=[]\n",
    "#loop to add the given element .. then add the parent.. and keep up till the root\n",
    "while target is not None:\n",
    "    path.append(target)\n",
    "    target=parent[target]\n",
    "#revese the path to start with the root    \n",
    "path.reverse()\n",
    "print(path)"
   ]
  },
  {
   "cell_type": "code",
   "execution_count": null,
   "id": "3dfa3eda",
   "metadata": {},
   "outputs": [],
   "source": []
  },
  {
   "cell_type": "code",
   "execution_count": 19,
   "id": "d82b80c6",
   "metadata": {},
   "outputs": [
    {
     "name": "stdout",
     "output_type": "stream",
     "text": [
      "A\n",
      "B\n",
      "C\n",
      "D\n",
      "E\n",
      "F\n",
      "H\n",
      "G\n"
     ]
    }
   ],
   "source": [
    "graph ={'A':['B','D'],\n",
    "        'B':['A','C'],\n",
    "        'C':['B'],\n",
    "        'D':['A','E','F'],\n",
    "        'E':['D','F','G'],\n",
    "        'F':['D','E','H'],\n",
    "        'G':['E','H'],\n",
    "        'H':['G','F']  }\n",
    "\n",
    "visited = set() # Set to keep track of visited nodes.\n",
    "\n",
    "def dfs(visited, graph, node):\n",
    "    if node not in visited:\n",
    "        print (node)\n",
    "        visited.add(node)\n",
    "        for neighbour in graph[node]:\n",
    "            dfs(visited, graph, neighbour)\n",
    "\n",
    "# Driver Code\n",
    "dfs(visited, graph, 'A')"
   ]
  },
  {
   "cell_type": "code",
   "execution_count": null,
   "id": "1e7dc404",
   "metadata": {},
   "outputs": [],
   "source": []
  }
 ],
 "metadata": {
  "kernelspec": {
   "display_name": "Python 3",
   "language": "python",
   "name": "python3"
  },
  "language_info": {
   "codemirror_mode": {
    "name": "ipython",
    "version": 3
   },
   "file_extension": ".py",
   "mimetype": "text/x-python",
   "name": "python",
   "nbconvert_exporter": "python",
   "pygments_lexer": "ipython3",
   "version": "3.8.8"
  }
 },
 "nbformat": 4,
 "nbformat_minor": 5
}

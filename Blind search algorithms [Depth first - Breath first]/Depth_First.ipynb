{
 "cells": [
  {
   "cell_type": "code",
   "execution_count": 9,
   "id": "1546f45a",
   "metadata": {},
   "outputs": [],
   "source": [
    "from queue import Queue\n",
    "nodes={\n",
    "        'A':['B','D'],\n",
    "        'B':['A','C'],\n",
    "        'C':['B'],\n",
    "        'D':['A','E','F'],\n",
    "        'E':['D','F','G'],\n",
    "        'F':['D','E','H'],\n",
    "        'G':['E','H'],\n",
    "        'H':['G','F']\n",
    "        }"
   ]
  },
  {
   "cell_type": "code",
   "execution_count": 10,
   "id": "8f66d8f7",
   "metadata": {},
   "outputs": [
    {
     "name": "stdout",
     "output_type": "stream",
     "text": [
      "{'A': False, 'B': False, 'C': False, 'D': False, 'E': False, 'F': False, 'G': False, 'H': False}\n",
      "{'A': -1, 'B': -1, 'C': -1, 'D': -1, 'E': -1, 'F': -1, 'G': -1, 'H': -1}\n",
      "{'A': None, 'B': None, 'C': None, 'D': None, 'E': None, 'F': None, 'G': None, 'H': None}\n"
     ]
    }
   ],
   "source": [
    "#BSF code\n",
    "visited={}\n",
    "level={}\n",
    "parent={}\n",
    "bfs_route=[]\n",
    "queue=Queue()\n",
    "\n",
    "#make intial values= 0\n",
    "for node in nodes.keys():\n",
    "    #add nodes names to (visited-parent).. and their values= 0\n",
    "    visited[node]=False\n",
    "    parent[node]=None\n",
    "    #make intial lelvel= -1 (as the root's level= 0)\n",
    "    level[node]=-1\n",
    "    \n",
    "print(visited)\n",
    "print(level)\n",
    "print(parent)"
   ]
  },
  {
   "cell_type": "code",
   "execution_count": 11,
   "id": "277bec38",
   "metadata": {},
   "outputs": [],
   "source": [
    "dfs_route= []\n",
    "root= 'A'\n",
    "#make the root the first element in the route\n",
    "dfs_route.append(root)\n",
    "visited[root]= True\n",
    "# root\n",
    "\n",
    "#function: depth search\n",
    "def recur(node):\n",
    "    #loop over children of each node\n",
    "    for i in nodes[node]:\n",
    "        if not visited[i]:\n",
    "            visited[i]=True\n",
    "            dfs_route.append(i)\n",
    "            #apply the func over the current child.. to loop over its children\n",
    "            recur(i)"
   ]
  },
  {
   "cell_type": "code",
   "execution_count": 13,
   "id": "89e693a8",
   "metadata": {},
   "outputs": [
    {
     "name": "stdout",
     "output_type": "stream",
     "text": [
      "['A', 'B', 'C', 'D', 'E', 'F', 'H', 'G']\n"
     ]
    }
   ],
   "source": [
    "recur('A')\n",
    "print(dfs_route)"
   ]
  },
  {
   "cell_type": "code",
   "execution_count": null,
   "id": "a72ff31e",
   "metadata": {},
   "outputs": [],
   "source": []
  },
  {
   "cell_type": "code",
   "execution_count": null,
   "id": "abfa62d1",
   "metadata": {},
   "outputs": [],
   "source": []
  },
  {
   "cell_type": "code",
   "execution_count": null,
   "id": "cd47a482",
   "metadata": {},
   "outputs": [],
   "source": []
  }
 ],
 "metadata": {
  "kernelspec": {
   "display_name": "Python 3",
   "language": "python",
   "name": "python3"
  },
  "language_info": {
   "codemirror_mode": {
    "name": "ipython",
    "version": 3
   },
   "file_extension": ".py",
   "mimetype": "text/x-python",
   "name": "python",
   "nbconvert_exporter": "python",
   "pygments_lexer": "ipython3",
   "version": "3.8.8"
  }
 },
 "nbformat": 4,
 "nbformat_minor": 5
}

{
 "cells": [
  {
   "cell_type": "code",
   "execution_count": 259,
   "id": "636fe2a9",
   "metadata": {},
   "outputs": [],
   "source": [
    "import pandas as pd\n",
    "import numpy as nm\n",
    "import matplotlib.pyplot as plt "
   ]
  },
  {
   "cell_type": "markdown",
   "id": "387f7bc3",
   "metadata": {},
   "source": [
    "### Read the dataset, convert it to DataFrame and display some from it"
   ]
  },
  {
   "cell_type": "code",
   "execution_count": 260,
   "id": "cdbc0529",
   "metadata": {},
   "outputs": [
    {
     "data": {
      "text/html": [
       "<div>\n",
       "<style scoped>\n",
       "    .dataframe tbody tr th:only-of-type {\n",
       "        vertical-align: middle;\n",
       "    }\n",
       "\n",
       "    .dataframe tbody tr th {\n",
       "        vertical-align: top;\n",
       "    }\n",
       "\n",
       "    .dataframe thead th {\n",
       "        text-align: right;\n",
       "    }\n",
       "</style>\n",
       "<table border=\"1\" class=\"dataframe\">\n",
       "  <thead>\n",
       "    <tr style=\"text-align: right;\">\n",
       "      <th></th>\n",
       "      <th>Title</th>\n",
       "      <th>Company</th>\n",
       "      <th>Location</th>\n",
       "      <th>Type</th>\n",
       "      <th>Level</th>\n",
       "      <th>YearsExp</th>\n",
       "      <th>Country</th>\n",
       "      <th>Skills</th>\n",
       "    </tr>\n",
       "  </thead>\n",
       "  <tbody>\n",
       "    <tr>\n",
       "      <th>0</th>\n",
       "      <td>Customer Service Agent</td>\n",
       "      <td>Johnson Controls</td>\n",
       "      <td>New Cairo</td>\n",
       "      <td>Full Time</td>\n",
       "      <td>Entry Level</td>\n",
       "      <td>1-3 Yrs of Exp</td>\n",
       "      <td>Cairo</td>\n",
       "      <td>Call Center, Customer Support, Customer Care, ...</td>\n",
       "    </tr>\n",
       "    <tr>\n",
       "      <th>1</th>\n",
       "      <td>Marketing Manager</td>\n",
       "      <td>SYE English Community</td>\n",
       "      <td>Dokki</td>\n",
       "      <td>Full Time</td>\n",
       "      <td>Manager</td>\n",
       "      <td>5-10 Yrs of Exp</td>\n",
       "      <td>Giza</td>\n",
       "      <td>Market Research, Social Media, Online Marketin...</td>\n",
       "    </tr>\n",
       "    <tr>\n",
       "      <th>2</th>\n",
       "      <td>Medical Representative Heliopolis</td>\n",
       "      <td>So Value Pharma</td>\n",
       "      <td>Cairo</td>\n",
       "      <td>Full Time</td>\n",
       "      <td>Entry Level</td>\n",
       "      <td>0-5 Yrs of Exp</td>\n",
       "      <td>Egypt</td>\n",
       "      <td>Cardio-metabolic, Sales Skills, Sales Target, ...</td>\n",
       "    </tr>\n",
       "    <tr>\n",
       "      <th>3</th>\n",
       "      <td>Order Handling Specialist</td>\n",
       "      <td>Johnson Controls</td>\n",
       "      <td>New Cairo</td>\n",
       "      <td>Full Time</td>\n",
       "      <td>Experienced</td>\n",
       "      <td>3-5 Yrs of Exp</td>\n",
       "      <td>Cairo</td>\n",
       "      <td>Supply Officer, Supply Planner, Procurement an...</td>\n",
       "    </tr>\n",
       "    <tr>\n",
       "      <th>4</th>\n",
       "      <td>Storekeeper</td>\n",
       "      <td>Confidential</td>\n",
       "      <td>Cairo</td>\n",
       "      <td>Full Time</td>\n",
       "      <td>Experienced</td>\n",
       "      <td>3+ Yrs of Exp</td>\n",
       "      <td>Egypt</td>\n",
       "      <td>Warehousing, Storekeeping, Logistics/Supply Chain</td>\n",
       "    </tr>\n",
       "  </tbody>\n",
       "</table>\n",
       "</div>"
      ],
      "text/plain": [
       "                               Title                Company    Location  \\\n",
       "0             Customer Service Agent       Johnson Controls   New Cairo   \n",
       "1                  Marketing Manager  SYE English Community       Dokki   \n",
       "2  Medical Representative Heliopolis        So Value Pharma       Cairo   \n",
       "3          Order Handling Specialist       Johnson Controls   New Cairo   \n",
       "4                        Storekeeper           Confidential       Cairo   \n",
       "\n",
       "        Type        Level         YearsExp Country  \\\n",
       "0  Full Time  Entry Level   1-3 Yrs of Exp   Cairo   \n",
       "1  Full Time      Manager  5-10 Yrs of Exp    Giza   \n",
       "2  Full Time  Entry Level   0-5 Yrs of Exp   Egypt   \n",
       "3  Full Time  Experienced   3-5 Yrs of Exp   Cairo   \n",
       "4  Full Time  Experienced    3+ Yrs of Exp   Egypt   \n",
       "\n",
       "                                              Skills  \n",
       "0  Call Center, Customer Support, Customer Care, ...  \n",
       "1  Market Research, Social Media, Online Marketin...  \n",
       "2  Cardio-metabolic, Sales Skills, Sales Target, ...  \n",
       "3  Supply Officer, Supply Planner, Procurement an...  \n",
       "4  Warehousing, Storekeeping, Logistics/Supply Chain  "
      ]
     },
     "execution_count": 260,
     "metadata": {},
     "output_type": "execute_result"
    }
   ],
   "source": [
    "df= pd.read_csv(\"C:\\\\Users\\moham\\Desktop\\Wuzzuf_Jobs.csv\")\n",
    "df.head()"
   ]
  },
  {
   "cell_type": "markdown",
   "id": "b13198d4",
   "metadata": {},
   "source": [
    "### Display structure and summary of the data."
   ]
  },
  {
   "cell_type": "code",
   "execution_count": 261,
   "id": "807ef78f",
   "metadata": {
    "scrolled": true
   },
   "outputs": [
    {
     "name": "stdout",
     "output_type": "stream",
     "text": [
      "number of rows and columns:  (4380, 8)\n",
      "____________________________________ \n",
      "\n",
      "data analysis:  \n",
      "\n",
      "<class 'pandas.core.frame.DataFrame'>\n",
      "RangeIndex: 4380 entries, 0 to 4379\n",
      "Data columns (total 8 columns):\n",
      " #   Column    Non-Null Count  Dtype \n",
      "---  ------    --------------  ----- \n",
      " 0   Title     4380 non-null   object\n",
      " 1   Company   4380 non-null   object\n",
      " 2   Location  4380 non-null   object\n",
      " 3   Type      4380 non-null   object\n",
      " 4   Level     4380 non-null   object\n",
      " 5   YearsExp  4380 non-null   object\n",
      " 6   Country   4380 non-null   object\n",
      " 7   Skills    4380 non-null   object\n",
      "dtypes: object(8)\n",
      "memory usage: 273.9+ KB\n",
      "____________________________________ \n",
      "\n",
      "data summary:  \n",
      "\n"
     ]
    },
    {
     "data": {
      "text/html": [
       "<div>\n",
       "<style scoped>\n",
       "    .dataframe tbody tr th:only-of-type {\n",
       "        vertical-align: middle;\n",
       "    }\n",
       "\n",
       "    .dataframe tbody tr th {\n",
       "        vertical-align: top;\n",
       "    }\n",
       "\n",
       "    .dataframe thead th {\n",
       "        text-align: right;\n",
       "    }\n",
       "</style>\n",
       "<table border=\"1\" class=\"dataframe\">\n",
       "  <thead>\n",
       "    <tr style=\"text-align: right;\">\n",
       "      <th></th>\n",
       "      <th>Title</th>\n",
       "      <th>Company</th>\n",
       "      <th>Location</th>\n",
       "      <th>Type</th>\n",
       "      <th>Level</th>\n",
       "      <th>YearsExp</th>\n",
       "      <th>Country</th>\n",
       "      <th>Skills</th>\n",
       "    </tr>\n",
       "  </thead>\n",
       "  <tbody>\n",
       "    <tr>\n",
       "      <th>count</th>\n",
       "      <td>4380</td>\n",
       "      <td>4380</td>\n",
       "      <td>4380</td>\n",
       "      <td>4380</td>\n",
       "      <td>4380</td>\n",
       "      <td>4380</td>\n",
       "      <td>4380</td>\n",
       "      <td>4380</td>\n",
       "    </tr>\n",
       "    <tr>\n",
       "      <th>unique</th>\n",
       "      <td>2965</td>\n",
       "      <td>1534</td>\n",
       "      <td>162</td>\n",
       "      <td>6</td>\n",
       "      <td>9</td>\n",
       "      <td>101</td>\n",
       "      <td>42</td>\n",
       "      <td>4227</td>\n",
       "    </tr>\n",
       "    <tr>\n",
       "      <th>top</th>\n",
       "      <td>Accountant</td>\n",
       "      <td>Confidential</td>\n",
       "      <td>Cairo</td>\n",
       "      <td>Full Time</td>\n",
       "      <td>Experienced</td>\n",
       "      <td>1-3 Yrs of Exp</td>\n",
       "      <td>Cairo</td>\n",
       "      <td>Corporate Sales, Real Estate, Advertising, Mar...</td>\n",
       "    </tr>\n",
       "    <tr>\n",
       "      <th>freq</th>\n",
       "      <td>57</td>\n",
       "      <td>590</td>\n",
       "      <td>563</td>\n",
       "      <td>4168</td>\n",
       "      <td>2198</td>\n",
       "      <td>414</td>\n",
       "      <td>2230</td>\n",
       "      <td>12</td>\n",
       "    </tr>\n",
       "  </tbody>\n",
       "</table>\n",
       "</div>"
      ],
      "text/plain": [
       "             Title       Company Location       Type        Level  \\\n",
       "count         4380          4380     4380       4380         4380   \n",
       "unique        2965          1534      162          6            9   \n",
       "top     Accountant  Confidential    Cairo  Full Time  Experienced   \n",
       "freq            57           590      563       4168         2198   \n",
       "\n",
       "              YearsExp Country  \\\n",
       "count             4380    4380   \n",
       "unique             101      42   \n",
       "top     1-3 Yrs of Exp   Cairo   \n",
       "freq               414    2230   \n",
       "\n",
       "                                                   Skills  \n",
       "count                                                4380  \n",
       "unique                                               4227  \n",
       "top     Corporate Sales, Real Estate, Advertising, Mar...  \n",
       "freq                                                   12  "
      ]
     },
     "execution_count": 261,
     "metadata": {},
     "output_type": "execute_result"
    }
   ],
   "source": [
    "print('number of rows and columns: ', df.shape)\n",
    "print('____________________________________', '\\n')\n",
    "print('data analysis: ', '\\n')\n",
    "df.info()\n",
    "print('____________________________________', '\\n')\n",
    "print('data summary: ', '\\n')\n",
    "df.describe()"
   ]
  },
  {
   "cell_type": "markdown",
   "id": "722a13a1",
   "metadata": {},
   "source": [
    "### Clean the data (null, duplications)"
   ]
  },
  {
   "cell_type": "code",
   "execution_count": 262,
   "id": "d2c26f40",
   "metadata": {},
   "outputs": [
    {
     "data": {
      "text/html": [
       "<div>\n",
       "<style scoped>\n",
       "    .dataframe tbody tr th:only-of-type {\n",
       "        vertical-align: middle;\n",
       "    }\n",
       "\n",
       "    .dataframe tbody tr th {\n",
       "        vertical-align: top;\n",
       "    }\n",
       "\n",
       "    .dataframe thead th {\n",
       "        text-align: right;\n",
       "    }\n",
       "</style>\n",
       "<table border=\"1\" class=\"dataframe\">\n",
       "  <thead>\n",
       "    <tr style=\"text-align: right;\">\n",
       "      <th></th>\n",
       "      <th>Title</th>\n",
       "      <th>Company</th>\n",
       "      <th>Location</th>\n",
       "      <th>Type</th>\n",
       "      <th>Level</th>\n",
       "      <th>YearsExp</th>\n",
       "      <th>Country</th>\n",
       "      <th>Skills</th>\n",
       "    </tr>\n",
       "  </thead>\n",
       "  <tbody>\n",
       "    <tr>\n",
       "      <th>180</th>\n",
       "      <td>HR Intern</td>\n",
       "      <td>Al Futtaim</td>\n",
       "      <td>New Cairo</td>\n",
       "      <td>Internship</td>\n",
       "      <td>Entry Level</td>\n",
       "      <td>null Yrs of Exp</td>\n",
       "      <td>Cairo</td>\n",
       "      <td>HR, Recruitment, Human Resources</td>\n",
       "    </tr>\n",
       "    <tr>\n",
       "      <th>220</th>\n",
       "      <td>Senior Back End Developer</td>\n",
       "      <td>Youxel</td>\n",
       "      <td>Maadi</td>\n",
       "      <td>Full Time</td>\n",
       "      <td>Experienced</td>\n",
       "      <td>2-4 Yrs of Exp</td>\n",
       "      <td>Cairo</td>\n",
       "      <td>Back End, Backend Development, Web Development...</td>\n",
       "    </tr>\n",
       "    <tr>\n",
       "      <th>440</th>\n",
       "      <td>Social Media Specialist</td>\n",
       "      <td>The Modern Vision Of Advertising</td>\n",
       "      <td>New Cairo</td>\n",
       "      <td>Full Time</td>\n",
       "      <td>Experienced</td>\n",
       "      <td>2+ Yrs of Exp</td>\n",
       "      <td>Cairo</td>\n",
       "      <td>E-marketing, Facebook, SEO, Communication Skil...</td>\n",
       "    </tr>\n",
       "  </tbody>\n",
       "</table>\n",
       "</div>"
      ],
      "text/plain": [
       "                         Title                           Company    Location  \\\n",
       "180                  HR Intern                        Al Futtaim   New Cairo   \n",
       "220  Senior Back End Developer                            Youxel       Maadi   \n",
       "440    Social Media Specialist  The Modern Vision Of Advertising   New Cairo   \n",
       "\n",
       "           Type        Level         YearsExp Country  \\\n",
       "180  Internship  Entry Level  null Yrs of Exp   Cairo   \n",
       "220   Full Time  Experienced   2-4 Yrs of Exp   Cairo   \n",
       "440   Full Time  Experienced    2+ Yrs of Exp   Cairo   \n",
       "\n",
       "                                                Skills  \n",
       "180                   HR, Recruitment, Human Resources  \n",
       "220  Back End, Backend Development, Web Development...  \n",
       "440  E-marketing, Facebook, SEO, Communication Skil...  "
      ]
     },
     "execution_count": 262,
     "metadata": {},
     "output_type": "execute_result"
    }
   ],
   "source": [
    "# find duplicates\n",
    "duplicate = df[df.duplicated()]\n",
    "duplicate"
   ]
  },
  {
   "cell_type": "code",
   "execution_count": 263,
   "id": "6233eca7",
   "metadata": {},
   "outputs": [],
   "source": [
    "# drop duplicates \n",
    "df.drop_duplicates(inplace=True)\n",
    "df.reset_index(inplace= True, drop= True)"
   ]
  },
  {
   "cell_type": "markdown",
   "id": "7992126b",
   "metadata": {},
   "source": [
    "### Count the jobs for each company and display that in order (What are the most demanding companies for jobs?)"
   ]
  },
  {
   "cell_type": "code",
   "execution_count": 264,
   "id": "b13a76e5",
   "metadata": {},
   "outputs": [
    {
     "name": "stdout",
     "output_type": "stream",
     "text": [
      "number of companies:  1534\n"
     ]
    },
    {
     "data": {
      "text/plain": [
       "Confidential    590\n",
       "Mishkat Nour     39\n",
       "Expand Cart      35\n",
       "EGIC             34\n",
       "Aqarmap.com      25\n",
       "Name: Company, dtype: int64"
      ]
     },
     "execution_count": 264,
     "metadata": {},
     "output_type": "execute_result"
    }
   ],
   "source": [
    "print('number of companies: ', df['Company'].value_counts().count()) \n",
    "\n",
    "# count of jobs for top 5 companies\n",
    "df['Company'].value_counts()[0:5]"
   ]
  },
  {
   "cell_type": "code",
   "execution_count": 265,
   "id": "7744bcd8",
   "metadata": {},
   "outputs": [
    {
     "data": {
      "text/plain": [
       "(4377, 8)"
      ]
     },
     "execution_count": 265,
     "metadata": {},
     "output_type": "execute_result"
    }
   ],
   "source": [
    "df.shape"
   ]
  },
  {
   "cell_type": "markdown",
   "id": "7f06f6d4",
   "metadata": {},
   "source": [
    "###### top results is \"cofidential\" so we won't show it in the analysis"
   ]
  },
  {
   "cell_type": "code",
   "execution_count": 266,
   "id": "0b7d12e8",
   "metadata": {},
   "outputs": [
    {
     "data": {
      "text/plain": [
       "Text(0.5, 1.0, 'top compaines')"
      ]
     },
     "execution_count": 266,
     "metadata": {},
     "output_type": "execute_result"
    },
    {
     "data": {
      "image/png": "[encoded data removed]",
      "text/plain": [
       "<Figure size 432x288 with 1 Axes>"
      ]
     },
     "metadata": {},
     "output_type": "display_data"
    }
   ],
   "source": [
    "df['Company'].value_counts()[1:5].plot(kind='pie', autopct='%1.1f%%')\n",
    "plt.title(\"top compaines\")"
   ]
  },
  {
   "cell_type": "markdown",
   "id": "d69b062f",
   "metadata": {},
   "source": [
    "### Find out what are the most popular job titles"
   ]
  },
  {
   "cell_type": "code",
   "execution_count": 267,
   "id": "db0a2106",
   "metadata": {},
   "outputs": [
    {
     "name": "stdout",
     "output_type": "stream",
     "text": [
      "number of Titles:  2965\n"
     ]
    },
    {
     "data": {
      "text/plain": [
       "Accountant                      57\n",
       "Sales Representative            47\n",
       "Graphic Designer                43\n",
       "Digital Marketing Specialist    26\n",
       "Sales Manager                   25\n",
       "Social Media Specialist         24\n",
       "Receptionist                    23\n",
       "Executive Secretary             21\n",
       "Sales Executive                 18\n",
       "Marketing Specialist            17\n",
       "Name: Title, dtype: int64"
      ]
     },
     "execution_count": 267,
     "metadata": {},
     "output_type": "execute_result"
    }
   ],
   "source": [
    "print('number of Titles: ', df['Title'].value_counts().count()) \n",
    "\n",
    "# count of top 10 Title\n",
    "df['Title'].value_counts()[0:10]"
   ]
  },
  {
   "cell_type": "code",
   "execution_count": 268,
   "id": "953c150b",
   "metadata": {},
   "outputs": [
    {
     "data": {
      "text/plain": [
       "Text(0.5, 0, 'frequency')"
      ]
     },
     "execution_count": 268,
     "metadata": {},
     "output_type": "execute_result"
    },
    {
     "data": {
      "image/png": "[encoded data removed]",
      "text/plain": [
       "<Figure size 432x288 with 1 Axes>"
      ]
     },
     "metadata": {
      "needs_background": "light"
     },
     "output_type": "display_data"
    }
   ],
   "source": [
    "df['Title'].value_counts()[0:10].plot(kind='barh')\n",
    "plt.title(\"top 10 job titles\")\n",
    "plt.ylabel(\"job\")\n",
    "plt.xlabel(\"frequency\")"
   ]
  },
  {
   "cell_type": "markdown",
   "id": "14de6c13",
   "metadata": {},
   "source": [
    "### Find out the most popular areas?"
   ]
  },
  {
   "cell_type": "code",
   "execution_count": 269,
   "id": "22f2d1e4",
   "metadata": {},
   "outputs": [
    {
     "name": "stdout",
     "output_type": "stream",
     "text": [
      "number of Locations:  162\n"
     ]
    },
    {
     "data": {
      "text/plain": [
       " Cairo             563\n",
       " Maadi             524\n",
       " New Cairo         520\n",
       " Nasr City         424\n",
       " 6th of October    282\n",
       " Heliopolis        247\n",
       " Dokki             140\n",
       " Mohandessin       140\n",
       " Alexandria        130\n",
       " Giza              126\n",
       "Name: Location, dtype: int64"
      ]
     },
     "execution_count": 269,
     "metadata": {},
     "output_type": "execute_result"
    }
   ],
   "source": [
    "print('number of Locations: ', df['Location'].value_counts().count()) \n",
    "\n",
    "# count of top 10 Locations\n",
    "df['Location'].value_counts()[0:10]"
   ]
  },
  {
   "cell_type": "code",
   "execution_count": 270,
   "id": "8abcdf0f",
   "metadata": {},
   "outputs": [
    {
     "data": {
      "text/plain": [
       "Text(0.5, 0, 'frequency')"
      ]
     },
     "execution_count": 270,
     "metadata": {},
     "output_type": "execute_result"
    },
    {
     "data": {
      "image/png": "[encoded data removed]",
      "text/plain": [
       "<Figure size 432x288 with 1 Axes>"
      ]
     },
     "metadata": {
      "needs_background": "light"
     },
     "output_type": "display_data"
    }
   ],
   "source": [
    "df['Location'].value_counts()[0:10].plot(kind='barh')\n",
    "plt.title(\"top 10 Locations\")\n",
    "plt.ylabel(\"Location\")\n",
    "plt.xlabel(\"frequency\")"
   ]
  },
  {
   "cell_type": "markdown",
   "id": "309c10b5",
   "metadata": {},
   "source": [
    "### Print skills one by one and how many each repeated and order the output to find out the most important skills required?"
   ]
  },
  {
   "cell_type": "code",
   "execution_count": 271,
   "id": "2a99e9ac",
   "metadata": {},
   "outputs": [
    {
     "name": "stdout",
     "output_type": "stream",
     "text": [
      "number of all skills:  66824\n"
     ]
    }
   ],
   "source": [
    "skills_list= []\n",
    "for i in range(len(df['Skills'])):\n",
    "    skills_list= skills_list + df['Skills'][i].split(',')\n",
    "    \n",
    "print('number of all skills: ', len(final_list))    "
   ]
  },
  {
   "cell_type": "code",
   "execution_count": 272,
   "id": "92aba749",
   "metadata": {},
   "outputs": [],
   "source": [
    "# transfer the list into a dataframe\n",
    "final_skills= pd.DataFrame(final_list)"
   ]
  },
  {
   "cell_type": "code",
   "execution_count": 273,
   "id": "0d5a4997",
   "metadata": {},
   "outputs": [
    {
     "data": {
      "text/plain": [
       " English                        2472\n",
       " Sales/Retail                   1310\n",
       " Sales Target                   1174\n",
       " Microsoft Office               1104\n",
       " Computer Science               1084\n",
       " Sales Skills                    978\n",
       " Customer Service                958\n",
       " Administration                  888\n",
       " Communication Skills            858\n",
       " Information Technology (IT)     830\n",
       "dtype: int64"
      ]
     },
     "execution_count": 273,
     "metadata": {},
     "output_type": "execute_result"
    }
   ],
   "source": [
    "# frequency of top 10 skill\n",
    "final_skills.value_counts()[0:10]"
   ]
  },
  {
   "cell_type": "code",
   "execution_count": 274,
   "id": "fd9e8cb9",
   "metadata": {},
   "outputs": [
    {
     "data": {
      "text/plain": [
       "Text(0.5, 0, 'frequency')"
      ]
     },
     "execution_count": 274,
     "metadata": {},
     "output_type": "execute_result"
    },
    {
     "data": {
      "image/png": "[encoded data removed]",
      "text/plain": [
       "<Figure size 432x288 with 1 Axes>"
      ]
     },
     "metadata": {
      "needs_background": "light"
     },
     "output_type": "display_data"
    }
   ],
   "source": [
    "final_skills.value_counts()[0:10].plot(kind='barh')\n",
    "plt.title(\"top 10 skills\")\n",
    "plt.ylabel(\"skill\")\n",
    "plt.xlabel(\"frequency\")"
   ]
  }
 ],
 "metadata": {
  "kernelspec": {
   "display_name": "Python 3",
   "language": "python",
   "name": "python3"
  },
  "language_info": {
   "codemirror_mode": {
    "name": "ipython",
    "version": 3
   },
   "file_extension": ".py",
   "mimetype": "text/x-python",
   "name": "python",
   "nbconvert_exporter": "python",
   "pygments_lexer": "ipython3",
   "version": "3.8.8"
  }
 },
 "nbformat": 4,
 "nbformat_minor": 5
}

{
 "cells": [
  {
   "cell_type": "code",
   "execution_count": 2,
   "id": "f5a55ffa",
   "metadata": {},
   "outputs": [
    {
     "name": "stdout",
     "output_type": "stream",
     "text": [
      "\n"
     ]
    }
   ],
   "source": [
    "from logic import *\n",
    "\n",
    "# Q1\n",
    "# the color or carrots is orange\n",
    "carrots = Symbol(\"carrots\")\n",
    "orange = Symbol(\"orange\")\n",
    "knowledge1 = And(Implication(carrots, orange))\n",
    "\n",
    "# Q2\n",
    "# if Person likes carrots .. then he is a vegetarian\n",
    "Person = Symbol(\"Person\")\n",
    "vegetarian = Symbol(\"vegetarian(x)\")\n",
    "like = Symbol(\"like\")\n",
    "like_carrots = Symbol(\"like(x, carrots)\")\n",
    "knowledge = And(Implication(vegetarian, like_carrots))\n",
    "\n",
    "# Q3\n",
    "# if student passes.. then he studied hard\n",
    "pass_exam = Symbol(\"pass(x)\")\n",
    "study_hard = Symbol(\"study_hard(x)\")\n",
    "knowledge3 = Implication(study_hard, pass_exam)\n",
    "\n",
    "# Q4\n",
    "# who pass?\n",
    "Pass = Symbol(\"? pass(who)\")\n",
    "knowledge4 = And(Pass)\n",
    "\n",
    "# Q5\n",
    "# which professor teaches this course?\n",
    "teaches = Symbol(\"? teaches(course, which)\")\n",
    "\n",
    "# Q6\n",
    "# if X & Y are enemies .. then they hate and fight each other\n",
    "X = Symbol(\"x\")\n",
    "Y = Symbol(\"y\")\n",
    "enemies = Symbol(f\"enemies({X}, {Y})\")\n",
    "hates = Symbol(f\"hates({X}, {Y})\")\n",
    "fights = Symbol(f\"fight({X}, {Y})\")\n",
    "knowledge6 = And(Implication(enemies, And(hates, fights)))"
   ]
  }
 ],
 "metadata": {
  "kernelspec": {
   "display_name": "Python 3",
   "language": "python",
   "name": "python3"
  },
  "language_info": {
   "codemirror_mode": {
    "name": "ipython",
    "version": 3
   },
   "file_extension": ".py",
   "mimetype": "text/x-python",
   "name": "python",
   "nbconvert_exporter": "python",
   "pygments_lexer": "ipython3",
   "version": "3.8.8"
  }
 },
 "nbformat": 4,
 "nbformat_minor": 5
}

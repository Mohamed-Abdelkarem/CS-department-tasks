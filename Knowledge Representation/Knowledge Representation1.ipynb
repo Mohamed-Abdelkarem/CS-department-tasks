{
 "cells": [
  {
   "cell_type": "code",
   "execution_count": 27,
   "id": "5c9933ed",
   "metadata": {},
   "outputs": [
    {
     "ename": "ModuleNotFoundError",
     "evalue": "No module named 'logic'",
     "output_type": "error",
     "traceback": [
      "\u001b[1;31m---------------------------------------------------------------------------\u001b[0m",
      "\u001b[1;31mModuleNotFoundError\u001b[0m                       Traceback (most recent call last)",
      "\u001b[1;32m<ipython-input-27-6190cecf7f72>\u001b[0m in \u001b[0;36m<module>\u001b[1;34m\u001b[0m\n\u001b[1;32m----> 1\u001b[1;33m \u001b[1;32mfrom\u001b[0m \u001b[0mlogic\u001b[0m \u001b[1;32mimport\u001b[0m \u001b[1;33m*\u001b[0m\u001b[1;33m\u001b[0m\u001b[1;33m\u001b[0m\u001b[0m\n\u001b[0m\u001b[0;32m      2\u001b[0m \u001b[1;33m\u001b[0m\u001b[0m\n\u001b[0;32m      3\u001b[0m \u001b[1;31m# Q1\u001b[0m\u001b[1;33m\u001b[0m\u001b[1;33m\u001b[0m\u001b[1;33m\u001b[0m\u001b[0m\n\u001b[0;32m      4\u001b[0m \u001b[1;31m# the color or carrots is orange\u001b[0m\u001b[1;33m\u001b[0m\u001b[1;33m\u001b[0m\u001b[1;33m\u001b[0m\u001b[0m\n\u001b[0;32m      5\u001b[0m \u001b[0mcarrots\u001b[0m \u001b[1;33m=\u001b[0m \u001b[0mSymbol\u001b[0m\u001b[1;33m(\u001b[0m\u001b[1;34m\"carrots\"\u001b[0m\u001b[1;33m)\u001b[0m\u001b[1;33m\u001b[0m\u001b[1;33m\u001b[0m\u001b[0m\n",
      "\u001b[1;31mModuleNotFoundError\u001b[0m: No module named 'logic'"
     ]
    }
   ],
   "source": [
    "from logic import *\n",
    "\n",
    "# Q1\n",
    "# the color or carrots is orange\n",
    "carrots = Symbol(\"carrots\")\n",
    "orange = Symbol(\"orange\")\n",
    "knowledge1 = And(\n",
    "    Implication(carrots, orange)\n",
    ")\n",
    "\n",
    "# Q2\n",
    "# if Person likes carrots .. then he is a vegetarian\n",
    "Person = Symbol(\"Person\")\n",
    "vegetarian = Symbol(\"vegetarian(x)\")\n",
    "like = Symbol(\"like\")\n",
    "like_carrots = Symbol(\"like(x, carrots)\")\n",
    "knowledge = And(Implication(vegetarian, like_carrots))\n",
    "\n",
    "# Q3\n",
    "# if student passes.. then he studied hard\n",
    "pass_exam = Symbol(\"pass(x)\")\n",
    "study_hard = Symbol(\"study_hard(x)\")\n",
    "knowledge3 = Implication(study_hard, pass_exam)\n",
    "\n",
    "\n",
    "# Q4\n",
    "# who pass?\n",
    "Pass = Symbol(\"? pass(who)\")\n",
    "knowledge4 = And(Pass)\n",
    "\n",
    "# Q5\n",
    "# which professor teaches this course?\n",
    "teaches = Symbol(\"? teaches(course, which)\")\n",
    "\n",
    "# Q6\n",
    "# if X & Y are enemies .. then they hate and fight each other\n",
    "X = Symbol(\"x\")\n",
    "Y = Symbol(\"y\")\n",
    "enemies = Symbol(f\"enemies({X}, {Y})\")\n",
    "hates = Symbol(f\"hates({X}, {Y})\")\n",
    "fights = Symbol(f\"fight({X}, {Y})\")\n",
    "knowledge6 = And(Implication(enemies, And(hates, fights)))\n"
   ]
  },
  {
   "cell_type": "code",
   "execution_count": 25,
   "id": "0f74a8ab",
   "metadata": {},
   "outputs": [
    {
     "ename": "SyntaxError",
     "evalue": "invalid syntax (<ipython-input-25-8df83ab75979>, line 1)",
     "output_type": "error",
     "traceback": [
      "\u001b[1;36m  File \u001b[1;32m\"<ipython-input-25-8df83ab75979>\"\u001b[1;36m, line \u001b[1;32m1\u001b[0m\n\u001b[1;33m    pip install logic\u001b[0m\n\u001b[1;37m        ^\u001b[0m\n\u001b[1;31mSyntaxError\u001b[0m\u001b[1;31m:\u001b[0m invalid syntax\n"
     ]
    }
   ]

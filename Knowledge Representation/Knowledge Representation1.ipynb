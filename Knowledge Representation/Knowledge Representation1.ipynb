{
 "cells": [
  {
   "cell_type": "code",
   "execution_count": 27,
   "id": "5c9933ed",
   "metadata": {},
   "outputs": [
    {
     "ename": "ModuleNotFoundError",
     "evalue": "No module named 'logic'",
     "output_type": "error",
     "traceback": [
      "\u001b[1;31m---------------------------------------------------------------------------\u001b[0m",
      "\u001b[1;31mModuleNotFoundError\u001b[0m                       Traceback (most recent call last)",
      "\u001b[1;32m<ipython-input-27-6190cecf7f72>\u001b[0m in \u001b[0;36m<module>\u001b[1;34m\u001b[0m\n\u001b[1;32m----> 1\u001b[1;33m \u001b[1;32mfrom\u001b[0m \u001b[0mlogic\u001b[0m \u001b[1;32mimport\u001b[0m \u001b[1;33m*\u001b[0m\u001b[1;33m\u001b[0m\u001b[1;33m\u001b[0m\u001b[0m\n\u001b[0m\u001b[0;32m      2\u001b[0m \u001b[1;33m\u001b[0m\u001b[0m\n\u001b[0;32m      3\u001b[0m \u001b[1;31m# Q1\u001b[0m\u001b[1;33m\u001b[0m\u001b[1;33m\u001b[0m\u001b[1;33m\u001b[0m\u001b[0m\n\u001b[0;32m      4\u001b[0m \u001b[1;31m# the color or carrots is orange\u001b[0m\u001b[1;33m\u001b[0m\u001b[1;33m\u001b[0m\u001b[1;33m\u001b[0m\u001b[0m\n\u001b[0;32m      5\u001b[0m \u001b[0mcarrots\u001b[0m \u001b[1;33m=\u001b[0m \u001b[0mSymbol\u001b[0m\u001b[1;33m(\u001b[0m\u001b[1;34m\"carrots\"\u001b[0m\u001b[1;33m)\u001b[0m\u001b[1;33m\u001b[0m\u001b[1;33m\u001b[0m\u001b[0m\n",
      "\u001b[1;31mModuleNotFoundError\u001b[0m: No module named 'logic'"
     ]
    }
   ],
   "source": [
    "from logic import *\n",
    "\n",
    "# Q1\n",
    "# the color or carrots is orange\n",
    "carrots = Symbol(\"carrots\")\n",
    "orange = Symbol(\"orange\")\n",
    "knowledge1 = And(\n",
    "    Implication(carrots, orange)\n",
    ")\n",
    "\n",
    "# Q2\n",
    "# if Person likes carrots .. then he is a vegetarian\n",
    "Person = Symbol(\"Person\")\n",
    "vegetarian = Symbol(\"vegetarian(x)\")\n",
    "like = Symbol(\"like\")\n",
    "like_carrots = Symbol(\"like(x, carrots)\")\n",
    "knowledge = And(Implication(vegetarian, like_carrots))\n",
    "\n",
    "# Q3\n",
    "# if student passes.. then he studied hard\n",
    "pass_exam = Symbol(\"pass(x)\")\n",
    "study_hard = Symbol(\"study_hard(x)\")\n",
    "knowledge3 = Implication(study_hard, pass_exam)\n",
    "\n",
    "\n",
    "# Q4\n",
    "# who pass?\n",
    "Pass = Symbol(\"? pass(who)\")\n",
    "knowledge4 = And(Pass)\n",
    "\n",
    "# Q5\n",
    "# which professor teaches this course?\n",
    "teaches = Symbol(\"? teaches(course, which)\")\n",
    "\n",
    "# Q6\n",
    "# if X & Y are enemies .. then they hate and fight each other\n",
    "X = Symbol(\"x\")\n",
    "Y = Symbol(\"y\")\n",
    "enemies = Symbol(f\"enemies({X}, {Y})\")\n",
    "hates = Symbol(f\"hates({X}, {Y})\")\n",
    "fights = Symbol(f\"fight({X}, {Y})\")\n",
    "knowledge6 = And(Implication(enemies, And(hates, fights)))\n"
   ]
  },
  {
   "cell_type": "code",
   "execution_count": 25,
   "id": "0f74a8ab",
   "metadata": {},
   "outputs": [
    {
     "ename": "SyntaxError",
     "evalue": "invalid syntax (<ipython-input-25-8df83ab75979>, line 1)",
     "output_type": "error",
     "traceback": [
      "\u001b[1;36m  File \u001b[1;32m\"<ipython-input-25-8df83ab75979>\"\u001b[1;36m, line \u001b[1;32m1\u001b[0m\n\u001b[1;33m    pip install logic\u001b[0m\n\u001b[1;37m        ^\u001b[0m\n\u001b[1;31mSyntaxError\u001b[0m\u001b[1;31m:\u001b[0m invalid syntax\n"
     ]
    }
   ],
   "source": [
    "pip install logic\n",
    "# pip install aima3"
   ]
  },
  {
   "cell_type": "code",
   "execution_count": 7,
   "id": "4b0db47d",
   "metadata": {},
   "outputs": [
    {
     "ename": "ModuleNotFoundError",
     "evalue": "No module named 'aima'",
     "output_type": "error",
     "traceback": [
      "\u001b[1;31m---------------------------------------------------------------------------\u001b[0m",
      "\u001b[1;31mModuleNotFoundError\u001b[0m                       Traceback (most recent call last)",
      "\u001b[1;32m<ipython-input-7-e9cc43f0b994>\u001b[0m in \u001b[0;36m<module>\u001b[1;34m\u001b[0m\n\u001b[0;32m      1\u001b[0m \u001b[1;31m# Import libraries\u001b[0m\u001b[1;33m\u001b[0m\u001b[1;33m\u001b[0m\u001b[1;33m\u001b[0m\u001b[0m\n\u001b[1;32m----> 2\u001b[1;33m \u001b[1;32mimport\u001b[0m \u001b[0maima\u001b[0m\u001b[1;33m.\u001b[0m\u001b[0mutils\u001b[0m\u001b[1;33m\u001b[0m\u001b[1;33m\u001b[0m\u001b[0m\n\u001b[0m\u001b[0;32m      3\u001b[0m \u001b[1;32mimport\u001b[0m \u001b[0maima\u001b[0m\u001b[1;33m.\u001b[0m\u001b[0mlogic\u001b[0m\u001b[1;33m\u001b[0m\u001b[1;33m\u001b[0m\u001b[0m\n\u001b[0;32m      4\u001b[0m \u001b[1;31m# The main entry point for this module\u001b[0m\u001b[1;33m\u001b[0m\u001b[1;33m\u001b[0m\u001b[1;33m\u001b[0m\u001b[0m\n\u001b[0;32m      5\u001b[0m \u001b[1;31m# def main():\u001b[0m\u001b[1;33m\u001b[0m\u001b[1;33m\u001b[0m\u001b[1;33m\u001b[0m\u001b[0m\n",
      "\u001b[1;31mModuleNotFoundError\u001b[0m: No module named 'aima'"
     ]
    }
   ],
   "source": [
    "# Import libraries\n",
    "import aima.utils\n",
    "import aima.logic\n",
    "# The main entry point for this module\n",
    "# def main():\n",
    "# Create an array to hold clauses\n",
    "clauses = []\n",
    "# Add first-order logic clauses (rules and fact)\n",
    "clauses.append(aima.utils.expr(\"(American(x) & Weapon(y) & Sells(x, y, z) & Hostile(z)) ==> Criminal(x)\"))\n",
    "clauses.append(aima.utils.expr(\"Enemy(Nono, America)\"))\n",
    "clauses.append(aima.utils.expr(\"Owns(Nono, M1)\"))\n",
    "clauses.append(aima.utils.expr(\"Missile(M1)\"))\n",
    "clauses.append(aima.utils.expr(\"(Missile(x) & Owns(Nono, x)) ==> Sells(West, x, Nono)\"))\n",
    "clauses.append(aima.utils.expr(\"American(West)\"))\n",
    "clauses.append(aima.utils.expr(\"Missile(x) ==> Weapon(x)\"))\n",
    "# Create a first-order logic knowledge base (KB) with clauses\n",
    "KB = aima.logic.FolKB(clauses)\n",
    "# Add rules and facts with tell\n",
    "KB.tell(aima.utils.expr('Enemy(Coco, America)'))\n",
    "KB.tell(aima.utils.expr('Enemy(Jojo, America)'))\n",
    "KB.tell(aima.utils.expr(\"Enemy(x, America) ==> Hostile(x)\"))\n",
    "# Get information from the knowledge base with ask\n",
    "hostile = KB.ask(aima.utils.expr('Hostile(x)'))\n",
    "criminal = KB.ask(aima.utils.expr('Criminal(x)'))\n",
    "# Print answers\n",
    "print('Hostile?')\n",
    "print(hostile)\n",
    "print('\\nCriminal?')\n",
    "print(criminal)\n",
    "print()"
   ]
  },
  {
   "cell_type": "code",
   "execution_count": 24,
   "id": "9dc312a7",
   "metadata": {},
   "outputs": [
    {
     "ename": "ModuleNotFoundError",
     "evalue": "No module named 'logic'",
     "output_type": "error",
     "traceback": [
      "\u001b[1;31m---------------------------------------------------------------------------\u001b[0m",
      "\u001b[1;31mModuleNotFoundError\u001b[0m                       Traceback (most recent call last)",
      "\u001b[1;32m<ipython-input-24-c3e5958720e9>\u001b[0m in \u001b[0;36m<module>\u001b[1;34m\u001b[0m\n\u001b[1;32m----> 1\u001b[1;33m \u001b[1;32mfrom\u001b[0m \u001b[0mlogic\u001b[0m \u001b[1;32mimport\u001b[0m \u001b[1;33m*\u001b[0m\u001b[1;33m\u001b[0m\u001b[1;33m\u001b[0m\u001b[0m\n\u001b[0m\u001b[0;32m      2\u001b[0m \u001b[1;33m\u001b[0m\u001b[0m\n\u001b[0;32m      3\u001b[0m \u001b[1;33m\u001b[0m\u001b[0m\n\u001b[0;32m      4\u001b[0m \u001b[1;31m# question 1.1\u001b[0m\u001b[1;33m\u001b[0m\u001b[1;33m\u001b[0m\u001b[1;33m\u001b[0m\u001b[0m\n\u001b[0;32m      5\u001b[0m \u001b[1;31m# in English : Carrots color is orange\u001b[0m\u001b[1;33m\u001b[0m\u001b[1;33m\u001b[0m\u001b[1;33m\u001b[0m\u001b[0m\n",
      "\u001b[1;31mModuleNotFoundError\u001b[0m: No module named 'logic'"
     ]
    }
   ],
   "source": [
    "from logic import *\n",
    "\n",
    "\n",
    "# question 1.1\n",
    "# in English : Carrots color is orange\n",
    "carrots = Symbol(\"carrots\")\n",
    "orange = Symbol(\"orange\")\n",
    "knowledge_for_question1 = And(\n",
    "    Implication(carrots, orange)\n",
    ")\n",
    "# print(knowledge_for_question1.formula())  # print the output formula of knowledge base\n",
    "#---------------------------------------------------\n",
    "\n",
    "\n",
    "# question 1.2\n",
    "# in English : \" if person is vegetarian , person likes carrots \"\n",
    "person = Symbol(\"person\")\n",
    "vegetarian = Symbol(\"vegetarian(x)\")\n",
    "like = Symbol(\"like\")\n",
    "like_person_carrots = Symbol(\"like(x, carrots)\")\n",
    "knowledge_for_question2 = And(Implication(vegetarian, like_person_carrots))\n",
    "# print(knowledge_for_question2.formula())  # print the output formula of knowledge base\n",
    "#---------------------------------------------------\n",
    "\n",
    "# question 1.3\n",
    "# in English : \" student pass if he studies hard \"\n",
    "pass_exam = Symbol(\"pass(x)\")\n",
    "study_hard = Symbol(\"study_hard(x)\")\n",
    "knowledge_for_question3 = Implication(study_hard, pass_exam)\n",
    "# print(knowledge_for_question3.formula())  # print the output formula of knowledge base\n",
    "#---------------------------------------------------\n",
    "\n",
    "# question 1.4\n",
    "# in English : \" who will pass? \"\n",
    "Pass = Symbol(\"? pass(who)\")\n",
    "knowledge_for_question4 = And(Pass)\n",
    "# print(knowledge_for_question4.formula())  # print the output formula of knowledge base\n",
    "#---------------------------------------------------\n",
    "\n",
    "# question 1.5\n",
    "# in English : \" which course teacher teach ? \"\n",
    "teaches = Symbol(\"? teaches(course, which)\")\n",
    "knowledge_for_question5 = And(teaches)\n",
    "# print(knowledge_for_question5.formula())   # print the output formula of knowledge base\n",
    "#---------------------------------------------------\n",
    "# question 1.6\n",
    "# in English : \" if x & y are enemies, x hate y and x fight y \"\n",
    "x = Symbol(\"x\")\n",
    "y = Symbol(\"y\")\n",
    "enemies = Symbol(f\"enemies({x}, {y})\")\n",
    "hates = Symbol(f\"hates({x}, {y})\")\n",
    "fight = Symbol(f\"fight({x}, {y})\")\n",
    "knowledge_for_question6 = And(Implication(enemies, And(hates, fight)))\n",
    "# print(knowledge_for_question6.formula()) # print the output formula of knowledge base"
   ]
  },
  {
   "cell_type": "code",
   "execution_count": null,
   "id": "ab9c5bd1",
   "metadata": {},
   "outputs": [],
   "source": []
  }
 ],
 "metadata": {
  "kernelspec": {
   "display_name": "Python 3",
   "language": "python",
   "name": "python3"
  },
  "language_info": {
   "codemirror_mode": {
    "name": "ipython",
    "version": 3
   },
   "file_extension": ".py",
   "mimetype": "text/x-python",
   "name": "python",
   "nbconvert_exporter": "python",
   "pygments_lexer": "ipython3",
   "version": "3.8.8"
  }
 },
 "nbformat": 4,
 "nbformat_minor": 5
}

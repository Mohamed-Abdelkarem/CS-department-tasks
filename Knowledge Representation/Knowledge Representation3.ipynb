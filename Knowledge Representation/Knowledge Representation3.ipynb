{
 "cells": [
  {
   "cell_type": "code",
   "execution_count": 2,
   "id": "c0d8adea",
   "metadata": {},
   "outputs": [
    {
     "name": "stdout",
     "output_type": "stream",
     "text": [
      "\n"
     ]
    }
   ],
   "source": [
    "from utils import *\n",
    "from logic2 import *\n",
    "\n",
    "#Q1\n",
    "X = Symbol(\"X\")\n",
    "Y = Symbol(\"Y\")\n",
    "enemies = Symbol(f\"enemies({X}, {Y})\")\n",
    "hates1 = Symbol(f\"hates({X}, {Y})\")\n",
    "hates2 = Symbol(f\"hates({Y}, {X})\")\n",
    "knowledge1 = And(Implication(enemies, And(hates1, hates2)))\n",
    "\n",
    "#Q2:\n",
    "p = Symbol(\"p(x)\")\n",
    "q = Symbol(\"q(x)\")\n",
    "r = Symbol(\"r(x)\")\n",
    "knowledge2 = And(Implication(p , And(q, r)))"
   ]
  }
 ],
 "metadata": {
  "kernelspec": {
   "display_name": "Python 3",
   "language": "python",
   "name": "python3"
  },
  "language_info": {
   "codemirror_mode": {
    "name": "ipython",
    "version": 3
   },
   "file_extension": ".py",
   "mimetype": "text/x-python",
   "name": "python",
   "nbconvert_exporter": "python",
   "pygments_lexer": "ipython3",
   "version": "3.8.8"
  }
 },
 "nbformat": 4,
 "nbformat_minor": 5
}

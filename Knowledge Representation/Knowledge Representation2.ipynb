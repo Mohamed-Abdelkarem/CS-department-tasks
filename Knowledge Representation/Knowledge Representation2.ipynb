{
 "cells": [
  {
   "cell_type": "code",
   "execution_count": 27,
   "id": "5c9933ed",
   "metadata": {},
   "outputs": [
    {
     "ename": "ModuleNotFoundError",
     "evalue": "No module named 'logic'",
     "output_type": "error",
     "traceback": [
      "\u001b[1;31m---------------------------------------------------------------------------\u001b[0m",
      "\u001b[1;31mModuleNotFoundError\u001b[0m                       Traceback (most recent call last)",
      "\u001b[1;32m<ipython-input-27-6190cecf7f72>\u001b[0m in \u001b[0;36m<module>\u001b[1;34m\u001b[0m\n\u001b[1;32m----> 1\u001b[1;33m \u001b[1;32mfrom\u001b[0m \u001b[0mlogic\u001b[0m \u001b[1;32mimport\u001b[0m \u001b[1;33m*\u001b[0m\u001b[1;33m\u001b[0m\u001b[1;33m\u001b[0m\u001b[0m\n\u001b[0m\u001b[0;32m      2\u001b[0m \u001b[1;33m\u001b[0m\u001b[0m\n\u001b[0;32m      3\u001b[0m \u001b[1;31m# Q1\u001b[0m\u001b[1;33m\u001b[0m\u001b[1;33m\u001b[0m\u001b[1;33m\u001b[0m\u001b[0m\n\u001b[0;32m      4\u001b[0m \u001b[1;31m# the color or carrots is orange\u001b[0m\u001b[1;33m\u001b[0m\u001b[1;33m\u001b[0m\u001b[1;33m\u001b[0m\u001b[0m\n\u001b[0;32m      5\u001b[0m \u001b[0mcarrots\u001b[0m \u001b[1;33m=\u001b[0m \u001b[0mSymbol\u001b[0m\u001b[1;33m(\u001b[0m\u001b[1;34m\"carrots\"\u001b[0m\u001b[1;33m)\u001b[0m\u001b[1;33m\u001b[0m\u001b[1;33m\u001b[0m\u001b[0m\n",
      "\u001b[1;31mModuleNotFoundError\u001b[0m: No module named 'logic'"
     ]
    }
   ],
   "source": [
    "from utils import *\n",
    "from logic2 import *\n",
    "\n",
    "# Q1\n",
    "maria = Symbol(\"maria\")\n",
    "peter_lucas = Symbol(\"peter lucas\")\n",
    "read = Symbol(f\"({maria} reads logic programming book)\")\n",
    "by = Symbol(f\"by ({peter_lucas})\")\n",
    "knowledge1 = And(Implication(read, by))\n",
    "\n",
    "# Q2\n",
    "is_a_girl = Symbol(\"is_a_girl(x)\")\n",
    "shopping = Symbol(\"shopping\")\n",
    "like = Symbol(f\"like(x, {shopping} )\")\n",
    "knowledge2 = And(Implication(is_girl, like))\n",
    "\n",
    "\n",
    "# Q3\n",
    "who = Symbol(\"?\")\n",
    "knowledge_for_question3  = And(who ,like)\n",
    "\n",
    "\n",
    "# Q4\n",
    "city = Symbol(\"city(x, big, crowdy)\")\n",
    "hates = Symbol(\"kirke, x\")\n",
    "knowledge_for_question4 = And(Implication(city, hates))\n"
   ]
  }
 ],
 "metadata": {
  "kernelspec": {
   "display_name": "Python 3",
   "language": "python",
   "name": "python3"
  },
  "language_info": {
   "codemirror_mode": {
    "name": "ipython",
    "version": 3
   },
   "file_extension": ".py",
   "mimetype": "text/x-python",
   "name": "python",
   "nbconvert_exporter": "python",
   "pygments_lexer": "ipython3",
   "version": "3.8.8"
  }
 },
 "nbformat": 4,
 "nbformat_minor": 5
}

{
 "cells": [
  {
   "cell_type": "code",
   "execution_count": 2,
   "id": "355e6ed9",
   "metadata": {},
   "outputs": [
    {
     "name": "stdout",
     "output_type": "stream",
     "text": [
      "\n"
     ]
    }
   ],
   "source": [
    "from utils import *\n",
    "from logic2 import *\n",
    "\n",
    "# Q1\n",
    "maria = Symbol(\"maria\")\n",
    "peter_lucas = Symbol(\"peter lucas\")\n",
    "read = Symbol(f\"({maria} reads logic programming book)\")\n",
    "by = Symbol(f\"by ({peter_lucas})\")\n",
    "knowledge1 = And(Implication(read, by))\n",
    "\n",
    "# Q2\n",
    "is_a_girl = Symbol(\"is_a_girl(x)\")\n",
    "shopping = Symbol(\"shopping\")\n",
    "like = Symbol(f\"like(x, {shopping} )\")\n",
    "knowledge2 = And(Implication(is_girl, like))\n",
    "\n",
    "# Q3\n",
    "who = Symbol(\"?\")\n",
    "knowledge_for_question3  = And(who ,like)\n",
    "\n",
    "# Q4\n",
    "city = Symbol(\"city(x, big, crowdy)\")\n",
    "hates = Symbol(\"kirke, x\")\n",
    "knowledge_for_question4 = And(Implication(city, hates))"
   ]
  }
 ],
 "metadata": {
  "kernelspec": {
   "display_name": "Python 3",
   "language": "python",
   "name": "python3"
  },
  "language_info": {
   "codemirror_mode": {
    "name": "ipython",
    "version": 3
   },
   "file_extension": ".py",
   "mimetype": "text/x-python",
   "name": "python",
   "nbconvert_exporter": "python",
   "pygments_lexer": "ipython3",
   "version": "3.8.8"
  }
 },
 "nbformat": 4,
 "nbformat_minor": 5
}

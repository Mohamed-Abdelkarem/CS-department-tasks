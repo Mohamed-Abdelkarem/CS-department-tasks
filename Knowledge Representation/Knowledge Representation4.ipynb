{
 "cells": [
  {
   "cell_type": "code",
   "execution_count": 6,
   "id": "2fc9c4b5",
   "metadata": {},
   "outputs": [
    {
     "name": "stdout",
     "output_type": "stream",
     "text": [
      "\n"
     ]
    }
   ],
   "source": [
    "import aima.utils\n",
    "import aima.logic\n",
    "from logic import *\n",
    "\n",
    "clauses = [aima.utils.expr(\"Man(John)\"), aima.utils.expr(\"Healthy(John)\"), aima.utils.expr(\"Wealthy(John)\"), \n",
    "           aima.utils.expr(\"Women(Jia)\"), aima.utils.expr(\"Wealthy(Jia)\"),\n",
    "           aima.utils.expr(\"(Wealthy(x) & Healthy(x)) ==> Traveler(x)\")]\n",
    "\n",
    "KB = aima.logic.FolKB(clauses)\n",
    "Wealthy = KB.ask(aima.utils.expr('Wealthy(x)'))\n",
    "Healthy = KB.ask(aima.utils.expr('Healthy(x)'))\n",
    "Traveler = KB.ask(aima.utils.expr('Traveler(x)'))\n",
    "\n",
    "print('this are who can travel:')\n",
    "print(list(traveler))\n",
    "print('\\n')\n",
    "print('this are who are healthy:')\n",
    "print(list(Healthy))\n",
    "print('\\n')\n",
    "print('this are who are wealthy:')\n",
    "print(list(Wealthy))"
   ]
  },
  {
   "cell_type": "code",
   "execution_count": null,
   "id": "25302a9d",
   "metadata": {},
   "outputs": [],
   "source": []
  }
 ],
 "metadata": {
  "kernelspec": {
   "display_name": "Python 3",
   "language": "python",
   "name": "python3"
  },
  "language_info": {
   "codemirror_mode": {
    "name": "ipython",
    "version": 3
   },
   "file_extension": ".py",
   "mimetype": "text/x-python",
   "name": "python",
   "nbconvert_exporter": "python",
   "pygments_lexer": "ipython3",
   "version": "3.8.8"
  }
 },
 "nbformat": 4,
 "nbformat_minor": 5
}

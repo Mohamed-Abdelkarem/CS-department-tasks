{
 "cells": [
  {
   "cell_type": "code",
   "execution_count": 29,
   "id": "5c9933ed",
   "metadata": {},
   "outputs": [
    {
     "ename": "SyntaxError",
     "evalue": "invalid syntax (<ipython-input-29-a935a48cdd8c>, line 14)",
     "output_type": "error",
     "traceback": [
      "\u001b[1;36m  File \u001b[1;32m\"<ipython-input-29-a935a48cdd8c>\"\u001b[1;36m, line \u001b[1;32m14\u001b[0m\n\u001b[1;33m    print(, '\\n')\u001b[0m\n\u001b[1;37m          ^\u001b[0m\n\u001b[1;31mSyntaxError\u001b[0m\u001b[1;31m:\u001b[0m invalid syntax\n"
     ]
    }
   ],
   "source": [
    "import utils\n",
    "from logic import *\n",
    "\n",
    "clauses = [expr(\"Man(John)\"), expr(\"Healthy(John)\"), expr(\"Wealthy(John)\"), expr(\"Women(Jia)\"), expr(\"Wealthy(Jia)\")\n",
    "    ,expr(\"(Wealthy(x) & Healthy(x)) ==> Traveler(x)\")]\n",
    "\n",
    "KB = FolKB(clauses)\n",
    "Wealthy = fol_bc_ask(KB, expr(\"Wealthy(x)\"))\n",
    "Healthy = fol_bc_ask(KB, expr(\"Healthy(x)\"))\n",
    "Traveler = fol_bc_ask(KB, expr(\"Traveler(x)\"))\n",
    "\n",
    "print('this are who can travel:')\n",
    "print(list(traveler))\n",
    "print('\\n')\n",
    "print('this are who are healthy:')\n",
    "print(list(Healthy))\n",
    "print('\\n')\n",
    "print('this are who are wealthy:')\n",
    "print(list(Wealthy))"
   ]
  },
  {
   "cell_type": "code",
   "execution_count": null,
   "id": "7f98fed0",
   "metadata": {},
   "outputs": [],
   "source": []
  }
 ],
 "metadata": {
  "kernelspec": {
   "display_name": "Python 3",
   "language": "python",
   "name": "python3"
  },
  "language_info": {
   "codemirror_mode": {
    "name": "ipython",
    "version": 3
   },
   "file_extension": ".py",
   "mimetype": "text/x-python",
   "name": "python",
   "nbconvert_exporter": "python",
   "pygments_lexer": "ipython3",
   "version": "3.8.8"
  }
 },
 "nbformat": 4,
 "nbformat_minor": 5
}
